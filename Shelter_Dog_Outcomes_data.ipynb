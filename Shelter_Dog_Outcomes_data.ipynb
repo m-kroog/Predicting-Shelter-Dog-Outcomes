{
 "cells": [
  {
   "cell_type": "code",
   "execution_count": 1,
   "metadata": {},
   "outputs": [],
   "source": [
    "import pandas as pd\n",
    "import numpy as np\n",
    "import matplotlib.pyplot as plt\n",
    "\n",
    "import json\n",
    "import pickle\n",
    "\n",
    "from fuzzywuzzy import fuzz\n",
    "from fuzzywuzzy import process\n",
    "\n",
    "import seaborn as sns\n",
    "sns.set()"
   ]
  },
  {
   "cell_type": "markdown",
   "metadata": {},
   "source": [
    "# Importing three shelter datasets #"
   ]
  },
  {
   "cell_type": "code",
   "execution_count": 2,
   "metadata": {},
   "outputs": [],
   "source": [
    "df1 = pd.read_csv('Austin_Animal_Center_Outcomes.csv')\n",
    "df2 = pd.read_csv('Animal_Shelter_Intake_and_Outcome.csv')\n",
    "df3 = pd.read_csv('Animal_IO_Data_0.csv')"
   ]
  },
  {
   "cell_type": "code",
   "execution_count": 3,
   "metadata": {},
   "outputs": [
    {
     "data": {
      "text/plain": [
       "Index(['Animal ID', 'Name', 'DateTime', 'MonthYear', 'Date of Birth',\n",
       "       'Outcome Type', 'Outcome Subtype', 'Animal Type', 'Sex upon Outcome',\n",
       "       'Age upon Outcome', 'Breed', 'Color'],\n",
       "      dtype='object')"
      ]
     },
     "execution_count": 3,
     "metadata": {},
     "output_type": "execute_result"
    }
   ],
   "source": [
    "df1.columns"
   ]
  },
  {
   "cell_type": "code",
   "execution_count": 4,
   "metadata": {},
   "outputs": [
    {
     "data": {
      "text/plain": [
       "Index(['Name', 'Type', 'Breed', 'Color', 'Sex', 'Size', 'Date Of Birth',\n",
       "       'Impound Number', 'Kennel Number', 'Animal ID', 'Intake Date',\n",
       "       'Outcome Date', 'Days in Shelter', 'Intake Type', 'Intake Subtype',\n",
       "       'Outcome Type', 'Outcome Subtype', 'Intake Condition',\n",
       "       'Outcome Condition', 'Intake Jurisdiction', 'Outcome Jurisdiction',\n",
       "       'Outcome Zip Code', 'Location', 'Count'],\n",
       "      dtype='object')"
      ]
     },
     "execution_count": 4,
     "metadata": {},
     "output_type": "execute_result"
    }
   ],
   "source": [
    "df2.columns"
   ]
  },
  {
   "cell_type": "code",
   "execution_count": 5,
   "metadata": {},
   "outputs": [
    {
     "data": {
      "text/plain": [
       "Index(['AnimalID', 'AnimalType', 'IntakeDate', 'IntakeType', 'IntakeSubtype',\n",
       "       'PrimaryColor', 'PrimaryBreed', 'SecondaryBreed', 'Gender',\n",
       "       'SecondaryColor', 'DOB', 'IntakeReason', 'IntakeInternalStatus',\n",
       "       'IntakeAsilomarStatus', 'ReproductiveStatusAtIntake', 'OutcomeDate',\n",
       "       'OutcomeType', 'OutcomeSubtype', 'OutcomeReason',\n",
       "       'OutcomeInternalStatus', 'OutcomeAsilomarStatus',\n",
       "       'ReproductiveStatusAtOutcome'],\n",
       "      dtype='object')"
      ]
     },
     "execution_count": 5,
     "metadata": {},
     "output_type": "execute_result"
    }
   ],
   "source": [
    "df3.columns"
   ]
  },
  {
   "cell_type": "markdown",
   "metadata": {},
   "source": [
    "# Cleaning up the datasets and engineering features #"
   ]
  },
  {
   "cell_type": "code",
   "execution_count": 6,
   "metadata": {},
   "outputs": [],
   "source": [
    "# Function to drop all animals other than dogs\n",
    "def drop_other(df):\n",
    "    df['Animal Type'] = df['Animal Type'].str.title()\n",
    "    df = df[df['Animal Type'] == 'Dog']\n",
    "    df = df.drop('Animal Type', axis=1)\n",
    "    return df"
   ]
  },
  {
   "cell_type": "code",
   "execution_count": 7,
   "metadata": {},
   "outputs": [],
   "source": [
    "# Function to clean up dates and at 'Age at Outcome' feature\n",
    "def stand_dates(df):\n",
    "    df['Age at Outcome'] = (pd.to_datetime(df['Outcome Date'],\n",
    "                                           infer_datetime_format=True) - pd.to_datetime(df['Date of Birth'],\n",
    "                                           infer_datetime_format=True))\n",
    "    df['Age at Outcome'] = df['Age at Outcome'].astype(str).apply(lambda x: x[:-24])\n",
    "    return df"
   ]
  },
  {
   "cell_type": "code",
   "execution_count": 8,
   "metadata": {},
   "outputs": [],
   "source": [
    "# Function to clean colors and add secondary color\n",
    "def colors(df):\n",
    "    df['Color'] = df['Color'].str.replace('/', ' ')\n",
    "    df['Color'] = df['Color'].fillna('Unknown')\n",
    "    df['Color'] = df['Color'].str.split(' ')\n",
    "    df['Color'] = df['Color'].map(lambda x: x[:2])\n",
    "    df['Secondary Color'] = np.where(df['Color'].str.len() == 2, df['Color'].map(lambda x: x[-1]), np.nan)\n",
    "    df['Primary Color'] = df['Color'].map(lambda x: x[0])\n",
    "    df = df.drop('Color', axis=1)\n",
    "    return df"
   ]
  },
  {
   "cell_type": "code",
   "execution_count": 9,
   "metadata": {},
   "outputs": [],
   "source": [
    "# Function to clean sex and add sterilized feature\n",
    "def sex_sterilized(df):\n",
    "    df['Sex'] = df['Sex'].fillna('Unknown')\n",
    "    df['Sex'] = df['Sex'].str.split(' ')\n",
    "\n",
    "    if 'Sterilized' not in df.columns:\n",
    "        df['Sterilized'] = ''\n",
    "    df['Sterilized'] = (np.where(df['Sex'].str.len() == 2,\n",
    "                        df['Sex'].map(lambda x: x[0]),\n",
    "                        df['Sterilized']))\n",
    "\n",
    "    df['Sex'] = (np.where(df['Sex'].str.len() == 2,\n",
    "                 df['Sex'].map(lambda x: x[-1]),\n",
    "                 df['Sex']))\n",
    "\n",
    "    df['Sex'] = df['Sex'].str.join('')\n",
    "    df['Sterilized'] = df['Sterilized'].str.title()\n",
    "\n",
    "    df['Sterilized'] = (df['Sterilized'].replace('Neutered', 'Yes')\n",
    "                                        .replace('Spayed', 'Yes')\n",
    "                                        .replace('Intact', 'No')\n",
    "                                        .replace('Fertile', 'No')\n",
    "                                        .replace('Altered', 'Yes'))\n",
    "    return df"
   ]
  },
  {
   "cell_type": "code",
   "execution_count": 10,
   "metadata": {},
   "outputs": [],
   "source": [
    "df1 = df1.rename({'Sex upon Outcome': 'Sex', 'DateTime': 'Outcome Date', 'Age upon Outcome': 'Age at Outcome'},\n",
    "                 axis=1)"
   ]
  },
  {
   "cell_type": "code",
   "execution_count": 11,
   "metadata": {
    "scrolled": true
   },
   "outputs": [],
   "source": [
    "# Keeping just the dogs; cleaning colors\n",
    "df1 = drop_other(df1)\n",
    "df1 = colors(df1)\n",
    "df1 = sex_sterilized(df1)"
   ]
  },
  {
   "cell_type": "code",
   "execution_count": 12,
   "metadata": {},
   "outputs": [],
   "source": [
    "# Convert 'Age at Outcome' to days\n",
    "df1 = df1.dropna(subset=['Age at Outcome'])\n",
    "df1['Age at Outcome'] = df1['Age at Outcome'].str.replace('s', '')\n",
    "df1['Age at Outcome'] = df1['Age at Outcome'].str.replace(' day', '')\n",
    "df1['Age at Outcome'] = df1['Age at Outcome'].str.replace(' month', ',30')\n",
    "df1['Age at Outcome'] = df1['Age at Outcome'].str.replace(' week', ',52')\n",
    "df1['Age at Outcome'] = df1['Age at Outcome'].str.replace(' year', ',365')\n",
    "df1['Age at Outcome'] = df1['Age at Outcome'].str.split(',').apply(lambda x: [int(y) for y in x])\n",
    "df1['Age at Outcome'] = df1['Age at Outcome'].map(np.prod)"
   ]
  },
  {
   "cell_type": "code",
   "execution_count": 13,
   "metadata": {},
   "outputs": [],
   "source": [
    "# Converting features to datetime objects to engineer features; adding empty features for engineering\n",
    "df1['Days in Shelter'] = np.nan\n",
    "df1['Secondary Breed'] = ''"
   ]
  },
  {
   "cell_type": "code",
   "execution_count": 14,
   "metadata": {},
   "outputs": [],
   "source": [
    "# Dropping unneeded features\n",
    "df1['Outcome Date'] = df1['Outcome Date'].astype(str).apply(lambda x: x[:-12])\n",
    "df1 = df1.drop(['Animal ID', 'MonthYear', 'Name', 'Outcome Subtype'], axis=1)\n",
    "df1 = df1.sort_index(axis=1)"
   ]
  },
  {
   "cell_type": "code",
   "execution_count": 15,
   "metadata": {},
   "outputs": [],
   "source": [
    "# Subsetting only needed features\n",
    "df2 = df2.loc[:, ['Type', 'Breed', 'Color', 'Sex', 'Date Of Birth', 'Outcome Date', 'Days in Shelter',\n",
    "                  'Outcome Type']]"
   ]
  },
  {
   "cell_type": "code",
   "execution_count": 16,
   "metadata": {},
   "outputs": [],
   "source": [
    "# Renaming features\n",
    "df2 = df2.rename({'Type': 'Animal Type', 'Outcome Date': 'Outcome Date', 'Date Of Birth': 'Date of Birth'},\n",
    "                 axis=1)"
   ]
  },
  {
   "cell_type": "code",
   "execution_count": 17,
   "metadata": {
    "scrolled": true
   },
   "outputs": [],
   "source": [
    "df2 = drop_other(df2)\n",
    "df2 = stand_dates(df2)\n",
    "df2 = colors(df2)"
   ]
  },
  {
   "cell_type": "code",
   "execution_count": 18,
   "metadata": {},
   "outputs": [],
   "source": [
    "# Adding 'Secondary Breed' feature\n",
    "df2['Secondary Breed'] = ''\n",
    "df2 = df2.sort_index(axis=1)"
   ]
  },
  {
   "cell_type": "code",
   "execution_count": 19,
   "metadata": {},
   "outputs": [],
   "source": [
    "# Standardizing 'Sterilized' and 'Sex' features\n",
    "df2['Sterilized'] = np.where(df2['Sex'] == 'Neutered', 'Yes', '')\n",
    "df2['Sterilized'] = np.where(df2['Sex'] == 'Spayed', 'Yes', df2['Sterilized'])\n",
    "df2['Sex'] = (df2['Sex'].replace('Neutered', 'Male')\n",
    "                        .replace('Spayed', 'Female'))"
   ]
  },
  {
   "cell_type": "code",
   "execution_count": 21,
   "metadata": {},
   "outputs": [],
   "source": [
    "# Subsetting only needed features\n",
    "df3 = df3.loc[:, ['AnimalType', 'IntakeDate', 'PrimaryColor', 'PrimaryBreed', 'SecondaryBreed', 'Gender',\n",
    "                  'SecondaryColor', 'DOB', 'ReproductiveStatusAtOutcome', 'OutcomeDate', 'OutcomeType']]"
   ]
  },
  {
   "cell_type": "code",
   "execution_count": 22,
   "metadata": {},
   "outputs": [],
   "source": [
    "# Renaming features\n",
    "df3 = df3.rename({'AnimalType': 'Animal Type', 'Gender': 'Sex', 'OutcomeDate': 'Outcome Date',\n",
    "                  'PrimaryBreed': 'Breed', 'OutcomeType': 'Outcome Type', 'DOB': 'Date of Birth',\n",
    "                  'SecondaryBreed': 'Secondary Breed', 'PrimaryColor': 'Color',\n",
    "                  'ReproductiveStatusAtOutcome': 'Sterilized'}, axis=1)"
   ]
  },
  {
   "cell_type": "code",
   "execution_count": 23,
   "metadata": {
    "scrolled": true
   },
   "outputs": [],
   "source": [
    "df3 = drop_other(df3)\n",
    "df3 = stand_dates(df3)\n",
    "df3 = colors(df3)\n",
    "df3 = sex_sterilized(df3)"
   ]
  },
  {
   "cell_type": "code",
   "execution_count": 24,
   "metadata": {
    "scrolled": true
   },
   "outputs": [],
   "source": [
    "# Cleaning colors\n",
    "df3['SecondaryColor'] = df3['SecondaryColor'].fillna('Unknown')\n",
    "df3['SecondaryColor'] = df3['SecondaryColor'].str.split(' ').map(lambda x: x[0])\n",
    "df3['Secondary Color'] = df3['Secondary Color'].fillna('Unknown')\n",
    "df3['Secondary Color'] = np.where(df3['Secondary Color'] == 'Unknown', df3['SecondaryColor'], np.nan)\n",
    "df3['Secondary Color'] = df3['Secondary Color'].replace('Unknown', np.nan)\n",
    "df3 = df3.drop('SecondaryColor', axis=1)"
   ]
  },
  {
   "cell_type": "code",
   "execution_count": 25,
   "metadata": {
    "scrolled": true
   },
   "outputs": [],
   "source": [
    "# Converting features to datetime objects to engineer features; adding empty features for engineering\n",
    "df3['Outcome Date'] = df3['Outcome Date'].astype(str).apply(lambda x: x[:-9])\n",
    "df3['Days in Shelter'] = pd.to_datetime(df3['Outcome Date'],\n",
    "                                        infer_datetime_format=True) - pd.to_datetime(df3['IntakeDate'])\n",
    "df3['Days in Shelter'] = df3['Days in Shelter'].apply(lambda x: x.days)"
   ]
  },
  {
   "cell_type": "code",
   "execution_count": 26,
   "metadata": {},
   "outputs": [],
   "source": [
    "# Data cleanup\n",
    "df3['Age at Outcome'] = df3['Age at Outcome'].replace('', np.nan)\n",
    "df3['Age at Outcome'] = pd.to_numeric(df3['Age at Outcome'])"
   ]
  },
  {
   "cell_type": "code",
   "execution_count": 27,
   "metadata": {},
   "outputs": [],
   "source": [
    "# Changing negative days in shelter to positive\n",
    "df3['Days in Shelter'] = np.where(df3['Days in Shelter'] < 0, -df3['Days in Shelter'],\n",
    "                                  df3['Days in Shelter'])"
   ]
  },
  {
   "cell_type": "code",
   "execution_count": 28,
   "metadata": {
    "scrolled": true
   },
   "outputs": [],
   "source": [
    "# Changing reproductive status values\n",
    "df3['Sterilized'] = df3['Sterilized'].replace('ALTERED', 'Yes')\n",
    "df3['Sterilized'] = df3['Sterilized'].replace('FERTILE', 'No')"
   ]
  },
  {
   "cell_type": "code",
   "execution_count": 29,
   "metadata": {
    "scrolled": true
   },
   "outputs": [],
   "source": [
    "# Dropping uneeded features\n",
    "df3 = df3.drop(['IntakeDate', 'IntakeDate'], axis=1)\n",
    "df3 = df3.sort_index(axis=1)"
   ]
  },
  {
   "cell_type": "code",
   "execution_count": 31,
   "metadata": {},
   "outputs": [],
   "source": [
    "# Combining all datasets\n",
    "df_dogs = pd.concat([df1, df2, df3], axis=0)"
   ]
  },
  {
   "cell_type": "code",
   "execution_count": 32,
   "metadata": {},
   "outputs": [],
   "source": [
    "# Changing negative days in 'Age at Outcome' to positive and changed from days to years\n",
    "df_dogs['Age at Outcome'] = pd.to_numeric(df_dogs['Age at Outcome'])\n",
    "df_dogs['Age at Outcome'] = np.where(df_dogs['Age at Outcome'] < 0, -df_dogs['Age at Outcome'],\n",
    "                                     df_dogs['Age at Outcome'])\n",
    "df_dogs['Age at Outcome'] = df_dogs['Age at Outcome'].divide(365).round(2)"
   ]
  },
  {
   "cell_type": "code",
   "execution_count": 33,
   "metadata": {
    "scrolled": true
   },
   "outputs": [],
   "source": [
    "# Converting to datetime\n",
    "df_dogs['Outcome Date'] = pd.to_datetime(df_dogs['Outcome Date'], infer_datetime_format=True)"
   ]
  },
  {
   "cell_type": "code",
   "execution_count": 34,
   "metadata": {
    "scrolled": true
   },
   "outputs": [],
   "source": [
    "# Data cleaning\n",
    "df_dogs['Sex'] = df_dogs['Sex'].str.title()\n",
    "df_dogs['Sex'] = df_dogs['Sex'].replace('Litter', np.nan)\n",
    "df_dogs['Sterilized'] = df_dogs['Sterilized'].str.title()\n",
    "df_dogs['Sterilized'] = df_dogs['Sterilized'].replace('', np.nan)\n",
    "df_dogs['Primary Color'] = df_dogs['Primary Color'].str.title()\n",
    "df_dogs['Secondary Color'] = df_dogs['Secondary Color'].str.title()\n",
    "df_dogs['Outcome Type'] = df_dogs['Outcome Type'].str.title()\n",
    "df_dogs['Outcome Type'] = df_dogs['Outcome Type'].replace('Release', 'Released')\n",
    "df_dogs['Outcome Type'] = df_dogs['Outcome Type'].replace('Rto-Adopt', 'Returned To Owner')\n",
    "df_dogs['Outcome Type'] = df_dogs['Outcome Type'].replace('Return To Owner', 'Returned To Owner')\n",
    "df_dogs['Outcome Type'] = df_dogs['Outcome Type'].replace('Rtf', 'Foster')\n",
    "df_dogs['Outcome Type'] = df_dogs['Outcome Type'].replace('Escaped/Stolen', 'Missing')\n",
    "df_dogs['Outcome Type'] = df_dogs['Outcome Type'].replace('Rto', 'Returned To Owner')\n",
    "df_dogs['Outcome Type'] = df_dogs['Outcome Type'].replace('Adoption', 'Adopted')\n",
    "df_dogs['Outcome Type'] = df_dogs['Outcome Type'].replace('Euth', 'Euthanized')\n",
    "df_dogs['Outcome Type'] = df_dogs['Outcome Type'].replace('Euthanasia', 'Euthanized')\n",
    "df_dogs['Outcome Type'] = df_dogs['Outcome Type'].replace('Euthanize', 'Euthanized')\n",
    "df_dogs = df_dogs.reset_index(drop=True)"
   ]
  },
  {
   "cell_type": "code",
   "execution_count": 35,
   "metadata": {
    "scrolled": true
   },
   "outputs": [],
   "source": [
    "# Data cleanup; creating bloodline feature\n",
    "df_dogs['Day'] = df_dogs['Outcome Date'].apply(lambda x: x.dayofyear)\n",
    "df_dogs['Breed'] = df_dogs['Breed'].str.split('/')\n",
    "df_dogs['Breed'] = df_dogs['Breed'].apply(lambda x: x[0])\n",
    "df_dogs['Breed'] = df_dogs['Breed'].str.title()\n",
    "df_dogs['Breed'] = df_dogs['Breed'].str.split('-').str[0].str.strip()\n",
    "df_dogs['Secondary Breed'] = df_dogs['Secondary Breed'].fillna('Unknown')\n",
    "df_dogs['Secondary Breed'] = df_dogs['Secondary Breed'].replace('', 'Unknown')\n",
    "df_dogs['Pure'] = 'Yes'\n",
    "df_dogs['Pure'] = (np.where((df_dogs['Breed'].str.contains('Mix')) | (df_dogs['Secondary Breed'] != 'Unknown'),\n",
    "                            'No',\n",
    "                            'Yes'))\n",
    "\n",
    "df_dogs = df_dogs.drop('Secondary Breed', axis=1)\n",
    "df_dogs = df_dogs.drop('Date of Birth', axis=1)"
   ]
  },
  {
   "cell_type": "code",
   "execution_count": 36,
   "metadata": {
    "scrolled": true
   },
   "outputs": [],
   "source": [
    "# Creating season feature\n",
    "bins = [0, 79, 169, 262, 356, 365]\n",
    "labels = ['Wint', 'Spring', 'Summer', 'Fall', 'Winter']\n",
    "df_dogs['Season'] = pd.cut(df_dogs['Day'], bins=bins, labels=labels)\n",
    "df_dogs['Season'] = df_dogs['Season'].replace('Wint', 'Winter')\n",
    "df_dogs = df_dogs.drop('Day', axis=1)\n",
    "df_dogs = df_dogs.reset_index(drop=True)"
   ]
  },
  {
   "cell_type": "code",
   "execution_count": 37,
   "metadata": {},
   "outputs": [],
   "source": [
    "# Importing a dictionary of all AKC breeds and their corresponding group\n",
    "group_dict = pickle.load(open('group_dict.pkl', 'rb'))"
   ]
  },
  {
   "cell_type": "code",
   "execution_count": 38,
   "metadata": {},
   "outputs": [],
   "source": [
    "# Fuzzywuzzy string matching function to change all dog names to AKC dog names if score is below a threshold\n",
    "def clean_breeds(dog):\n",
    "    if dog in list(group_dict):\n",
    "        return dog\n",
    "    new_breed, score = process.extractOne(dog, list(group_dict))\n",
    "    if score < 85:\n",
    "        return dog\n",
    "    else:\n",
    "        return new_breed"
   ]
  },
  {
   "cell_type": "code",
   "execution_count": 39,
   "metadata": {},
   "outputs": [],
   "source": [
    "# Fuzzywuzzy needs a little help\n",
    "df_dogs['Breed'] = df_dogs['Breed'].str.replace(' Mix$', '')\n",
    "df_dogs['Breed'] = df_dogs['Breed'].str.replace('Am ', 'American ')\n",
    "df_dogs['Breed'] = df_dogs['Breed'].str.replace('Amer ', 'American ')\n",
    "df_dogs['Breed'] = df_dogs['Breed'].str.replace('Ter$', 'Terrier')\n",
    "df_dogs['Breed'] = df_dogs['Breed'].str.replace('Terr$', 'Terrier')\n",
    "df_dogs['Breed'] = df_dogs['Breed'].str.replace('Aust ', 'Australian ')\n",
    "df_dogs['Breed'] = df_dogs['Breed'].str.replace('Eng ', 'English ')\n",
    "df_dogs['Breed'] = df_dogs['Breed'].str.replace(' \\(Redtick Coonhound\\)', '')\n",
    "df_dogs['Breed'] = df_dogs['Breed'].str.replace('Norw ', 'Norwegian ')\n",
    "df_dogs['Breed'] = df_dogs['Breed'].str.replace('Scot ', 'Scottish ')\n",
    "\n",
    "rep_list = ['Labrador Retr', 'Labrador Retriever', 'Germ Sh Point', 'German Shorthaired Pointer',\n",
    "            'Welsh Corgi Pem', 'Pembroke Welsh Corgi', 'Golden Retr', 'Golden Retriever',\n",
    "            'Welsh Corgi Car', 'Cardigan Welsh Corgi', 'Schnauzer Min', 'Miniature Schnauzer',\n",
    "            'Germ Wh Point', 'Pointer']\n",
    "\n",
    "rep_dict = dict(zip(rep_list[::2], rep_list[1::2]))\n",
    "df_dogs['Breed'] = df_dogs['Breed'].map(rep_dict).fillna(df_dogs['Breed'])"
   ]
  },
  {
   "cell_type": "code",
   "execution_count": 41,
   "metadata": {
    "scrolled": true
   },
   "outputs": [],
   "source": [
    "# Standardizing all breeds to AKC\n",
    "df_dogs['Breed'] = df_dogs['Breed'].map(clean_breeds)"
   ]
  },
  {
   "cell_type": "code",
   "execution_count": 47,
   "metadata": {
    "scrolled": true
   },
   "outputs": [],
   "source": [
    "# Adding 'Percent Breed Per Outcome Per Year' feature\n",
    "df_dogs['Outcome Year'] = df_dogs['Outcome Date'].dt.year\n",
    "df_dogs = df_dogs.drop('Outcome Date', axis=1)\n",
    "df_dogs = df_dogs[df_dogs['Outcome Year'] > 2004]\n",
    "df_breed_out = (df_dogs.groupby(['Outcome Year', 'Outcome Type', 'Breed']).size()\n",
    "                                                                          .rename('Count')\n",
    "                                                                          .reset_index())\n",
    "df_breed_count = (df_dogs.groupby(['Outcome Year', 'Breed']).size()\n",
    "                                                            .rename('Count')\n",
    "                                                            .reset_index())\n",
    "df_breed_merged = df_breed_out.merge(df_breed_count,\n",
    "                                     on=['Outcome Year', 'Breed'],\n",
    "                                     how='left',\n",
    "                                     suffixes=(' Outcome', ' Total'))\n",
    "\n",
    "df_breed_merged['Percent Breed Outcome Year'] = df_breed_merged['Count Outcome'].divide(df_breed_merged['Count Total'])\n",
    "df_breed_merged = df_breed_merged.drop(['Count Outcome', 'Count Total'], axis=1)\n",
    "df_breed_merged['Outcome Year'] += 1\n",
    "df_dogs = df_dogs.merge(df_breed_merged, on=['Outcome Year', 'Outcome Type', 'Breed'], how='left')\n",
    "df_dogs = df_dogs.drop('Outcome Year', axis=1)"
   ]
  },
  {
   "cell_type": "code",
   "execution_count": 48,
   "metadata": {
    "scrolled": true
   },
   "outputs": [],
   "source": [
    "# Adding 'Group' feature\n",
    "df_dogs['Group'] = df_dogs['Breed'].map(group_dict)\n",
    "df_dogs['Group'] = df_dogs['Group'].str.replace(' & Toy', '')\n",
    "df_dogs['Group'] = df_dogs['Group'].str.replace('Terrier ', 'Terrier')"
   ]
  },
  {
   "cell_type": "code",
   "execution_count": 49,
   "metadata": {},
   "outputs": [],
   "source": [
    "# Importing dog rank, lifespan and weight\n",
    "dog_all = pickle.load(open('dog_all.pkl', 'rb'))\n",
    "df_dogs = df_dogs.merge(dog_all, on='Breed', how='left')"
   ]
  },
  {
   "cell_type": "code",
   "execution_count": 50,
   "metadata": {},
   "outputs": [],
   "source": [
    "# Standardizing 'Puppy' feature\n",
    "df_dogs['Size'] = df_dogs['Size'].fillna('Unknown')\n",
    "df_dogs['Puppy'] = ''\n",
    "df_dogs['Puppy'] = (np.where((df_dogs['Size'] == 'XSmall') & (df_dogs['Age at Outcome'] > 8 / 12),\n",
    "                             'Yes',\n",
    "                             df_dogs['Puppy']))\n",
    "\n",
    "df_dogs['Puppy'] = (np.where((df_dogs['Size'] == 'Small') & (df_dogs['Age at Outcome'] > 10 / 12),\n",
    "                             'Yes',\n",
    "                             df_dogs['Puppy']))\n",
    "\n",
    "df_dogs['Puppy'] = (np.where((df_dogs['Size'] == 'Medium') & (df_dogs['Age at Outcome'] > 1),\n",
    "                             'Yes',\n",
    "                             df_dogs['Puppy']))\n",
    "\n",
    "df_dogs['Puppy'] = (np.where((df_dogs['Size'] == 'Large') & (df_dogs['Age at Outcome'] > 15 / 12),\n",
    "                             'Yes',\n",
    "                             df_dogs['Puppy']))\n",
    "\n",
    "df_dogs['Puppy'] = (np.where((df_dogs['Size'] == 'XLarge') & (df_dogs['Age at Outcome'] > 18 / 12),\n",
    "                             'Yes',\n",
    "                             df_dogs['Puppy']))\n",
    "\n",
    "df_dogs['Puppy'] = (np.where((df_dogs['Size'] == 'XSmall') & (df_dogs['Age at Outcome'] <= 8 / 12),\n",
    "                             'No',\n",
    "                             df_dogs['Puppy']))\n",
    "\n",
    "df_dogs['Puppy'] = (np.where((df_dogs['Size'] == 'Small') & (df_dogs['Age at Outcome'] <= 10 / 12),\n",
    "                             'No',\n",
    "                             df_dogs['Puppy']))\n",
    "\n",
    "df_dogs['Puppy'] = (np.where((df_dogs['Size'] == 'Medium') & (df_dogs['Age at Outcome'] <= 1),\n",
    "                             'No',\n",
    "                             df_dogs['Puppy']))\n",
    "\n",
    "df_dogs['Puppy'] = (np.where((df_dogs['Size'] == 'Large') & (df_dogs['Age at Outcome'] <= 15 / 12),\n",
    "                             'No',\n",
    "                             df_dogs['Puppy']))\n",
    "\n",
    "df_dogs['Puppy'] = (np.where((df_dogs['Size'] == 'XLarge') & (df_dogs['Age at Outcome'] <= 18 / 12),\n",
    "                             'No',\n",
    "                             df_dogs['Puppy']))\n",
    "\n",
    "df_dogs['Puppy'] = np.where(df_dogs['Age at Outcome'].isna(), np.nan, df_dogs['Puppy'])"
   ]
  },
  {
   "cell_type": "code",
   "execution_count": 51,
   "metadata": {},
   "outputs": [],
   "source": [
    "# Cleaning color features\n",
    "df_dogs['Primary Color'] = df_dogs['Primary Color'].replace('Bl', 'Black')\n",
    "df_dogs['Primary Color'] = df_dogs['Primary Color'].replace('Blk', 'Black')\n",
    "df_dogs['Primary Color'] = df_dogs['Primary Color'].replace('Br', 'Brown')\n",
    "df_dogs['Primary Color'] = df_dogs['Primary Color'].replace('Brn', 'Brown')\n",
    "df_dogs['Primary Color'] = df_dogs['Primary Color'].replace('Y', 'Yellow')\n",
    "df_dogs['Secondary Color'] = df_dogs['Secondary Color'].replace('Bl', 'Black')\n",
    "df_dogs['Secondary Color'] = df_dogs['Secondary Color'].replace('Br', 'Brown')\n",
    "df_dogs['Secondary Color'] = df_dogs['Secondary Color'].replace('Brn', 'Brown')"
   ]
  },
  {
   "cell_type": "code",
   "execution_count": 52,
   "metadata": {},
   "outputs": [],
   "source": [
    "# Adding Mean Age at Outcome per Breed feature\n",
    "df_mean_breed_age_outcome = df_dogs.groupby(['Breed'])['Age at Outcome'].mean().reset_index()\n",
    "df_dogs = df_dogs.merge(df_mean_breed_age_outcome, how='outer', on='Breed', suffixes=('', ' Breed'))\n",
    "df_dogs = df_dogs.rename({'Age at Outcome Breed': 'Mean Age at Outcome Breed'}, axis=1)"
   ]
  },
  {
   "cell_type": "markdown",
   "metadata": {},
   "source": [
    "# Preparing Data for Modeling #"
   ]
  },
  {
   "cell_type": "code",
   "execution_count": 53,
   "metadata": {},
   "outputs": [],
   "source": [
    "# Reducing target outcome to three classes\n",
    "df_dogs = (df_dogs[(df_dogs['Outcome Type'] == 'Adopted') |\n",
    "                   (df_dogs['Outcome Type'] == 'Euthanized') |\n",
    "                   (df_dogs['Outcome Type'] == 'Returned To Owner')])"
   ]
  },
  {
   "cell_type": "code",
   "execution_count": 54,
   "metadata": {},
   "outputs": [],
   "source": [
    "# Dropping unreasonably old dogs\n",
    "df_dogs = df_dogs[(df_dogs['Age at Outcome'] < 27) | (df_dogs['Age at Outcome'].isnull())].reset_index(drop=True)"
   ]
  },
  {
   "cell_type": "code",
   "execution_count": 55,
   "metadata": {},
   "outputs": [
    {
     "data": {
      "text/plain": [
       "Adopted              41420\n",
       "Euthanized           32754\n",
       "Returned To Owner    32412\n",
       "Name: Outcome Type, dtype: int64"
      ]
     },
     "execution_count": 55,
     "metadata": {},
     "output_type": "execute_result"
    }
   ],
   "source": [
    "# Looking at class imbalance\n",
    "df_dogs['Outcome Type'].value_counts()"
   ]
  },
  {
   "cell_type": "code",
   "execution_count": 56,
   "metadata": {},
   "outputs": [
    {
     "data": {
      "text/plain": [
       "<seaborn.axisgrid.FacetGrid at 0x1a1ca48e80>"
      ]
     },
     "execution_count": 56,
     "metadata": {},
     "output_type": "execute_result"
    },
    {
     "data": {
      "image/png": "[encoded data removed]",
      "text/plain": [
       "<Figure size 360x360 with 1 Axes>"
      ]
     },
     "metadata": {
      "needs_background": "light"
     },
     "output_type": "display_data"
    }
   ],
   "source": [
    "df_plot = (df_dogs['Outcome Type'].value_counts()\n",
    "                                  .reset_index()\n",
    "                                  .rename({'Outcome Type': 'Counts', 'index': 'Outcome Type'}, axis=1))\n",
    "sns.catplot(y='Outcome Type', x='Counts', data=df_plot, kind='bar')"
   ]
  },
  {
   "cell_type": "code",
   "execution_count": 58,
   "metadata": {},
   "outputs": [],
   "source": [
    "# Dropping engineered features to use in a baseline model\n",
    "df_pre_features = df_dogs.copy()\n",
    "df_pre_features['Color'] = np.where(df_pre_features['Secondary Color'].isna(),\n",
    "                                    df_pre_features['Primary Color'],\n",
    "                                    df_pre_features['Primary Color'] + ' ' + df_pre_features['Secondary Color'])\n",
    "\n",
    "df_pre_features = df_pre_features.drop(['Primary Color', 'Secondary Color',\n",
    "                                        'Pure', 'Season', 'Percent Breed Outcome Year',\n",
    "                                        'Group', 'Puppy', 'Mean Age at Outcome Breed',\n",
    "                                        'Days in Shelter', 'Rank_2017', 'Rank_2016',\n",
    "                                        'Rank_2015', 'Rank_2014', 'Rank_2013', 'Median Life Expectancy',\n",
    "                                        'Size', 'Mean Weight Breed'], axis=1)\n",
    "\n",
    "df_pre_features['Breed'] = df_pre_features['Breed'].astype('category')\n",
    "df_pre_features['Sterilized'] = df_pre_features['Sterilized'].astype('category')\n",
    "df_pre_features['Sex'] = df_pre_features['Sex'].astype('category')\n",
    "df_pre_features['Color'] = df_pre_features['Color'].astype('category')"
   ]
  },
  {
   "cell_type": "code",
   "execution_count": 59,
   "metadata": {},
   "outputs": [],
   "source": [
    "# Categorizing features for modeling\n",
    "df_dogs['Breed'] = df_dogs['Breed'].astype('category')\n",
    "df_dogs['Primary Color'] = df_dogs['Primary Color'].astype('category')\n",
    "df_dogs['Secondary Color'] = df_dogs['Secondary Color'].astype('category')\n",
    "df_dogs['Sterilized'] = df_dogs['Sterilized'].astype('category')\n",
    "df_dogs['Pure'] = df_dogs['Pure'].astype('category')\n",
    "df_dogs['Season'] = df_dogs['Season'].astype('category')\n",
    "df_dogs['Group'] = df_dogs['Group'].astype('category')\n",
    "df_dogs['Size'] = df_dogs['Size'].astype('category')\n",
    "df_dogs['Puppy'] = df_dogs['Puppy'].astype('category')\n",
    "df_dogs['Sex'] = df_dogs['Sex'].astype('category')"
   ]
  }
 ],
 "metadata": {
  "kernelspec": {
   "display_name": "Python 3",
   "language": "python",
   "name": "python3"
  },
  "language_info": {
   "codemirror_mode": {
    "name": "ipython",
    "version": 3
   },
   "file_extension": ".py",
   "mimetype": "text/x-python",
   "name": "python",
   "nbconvert_exporter": "python",
   "pygments_lexer": "ipython3",
   "version": "3.7.3"
  }
 },
 "nbformat": 4,
 "nbformat_minor": 2
}
